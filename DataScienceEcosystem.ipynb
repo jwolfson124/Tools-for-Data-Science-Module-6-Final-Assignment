#!/usr/bin/env python
# coding: utf-8

# <center>
#     <img src="https://cf-courses-data.s3.us.cloud-object-storage.appdomain.cloud/IBMDeveloperSkillsNetwork-DS0105EN-SkillsNetwork/labs/Module2/images/SN_web_lightmode.png" width="300" alt="cognitiveclass.ai logo">
# </center>
# 

# #### Add your code below following the instructions given in the course
# 

# In[ ]:


## Create a Jupter Notebook called DataScienceEcosystem.ipynb


# In[ ]:


## Create a markdown cell with title of the notebook 


# # Data Science Tools and Ecosystem

# In[ ]:


## Write an introductory sentence about the notebook such as the follows:


# ### In this notebook, Data Science Tools and Ecosystems are summarized

# #### **Objectives**
# - List popular languages used by data scientist
# - List popular libraries used by data scientist
# - Create a table showing different data science tools
# - Do simple arithmetic in python

# In[ ]:


##Create a markdown cell to list data science languages 


# ##### Some of the commonly used languages used by Data Scientists include:
# 1. Python
# 2. SQL
# 3. R
# 4. C++

# In[ ]:


##Create a markdown cell to list data science libraries


# ##### Some of the commonly used libraries used by Data Scientists include
# 1. Pandas
# 2. Numpy
# 3. TensorFlow
# 4. PyTorch
# 

# In[ ]:


## Create a markdown cell with a table of Data science tools


# |Data Science Tools |
# |---------|
# |Git|
# |TensorFlow|
# |Eclipse|
# |Visual Studio Code|
# 

# In[ ]:


## Create a markdown cell introducing arithmetic expression examples


# ### Below are a few examples of evaluating arithmetic expressions in python

# In[1]:


## this is a simple arithmetic expression to multiply then add integers
(3*4)+5


# In[ ]:


## Create a code cell to convert minutes to hours


# In[2]:


## This will convert minutes to hours by dividing by 60
(200 / 60)


# In[ ]:


## Create a markdown cell to indicate the Author's name


# ## Author
# Jacob Wolfson

# In[ ]:




